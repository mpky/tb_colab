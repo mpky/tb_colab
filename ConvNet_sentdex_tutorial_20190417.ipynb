{
  "nbformat": 4,
  "nbformat_minor": 0,
  "metadata": {
    "colab": {
      "name": "ConvNet_sentdex_tutorial_20190417.ipynb",
      "version": "0.3.2",
      "provenance": [],
      "collapsed_sections": [],
      "include_colab_link": true
    },
    "language_info": {
      "codemirror_mode": {
        "name": "ipython",
        "version": 3
      },
      "file_extension": ".py",
      "mimetype": "text/x-python",
      "name": "python",
      "nbconvert_exporter": "python",
      "pygments_lexer": "ipython3",
      "version": "3.7.1"
    },
    "kernelspec": {
      "name": "python3",
      "display_name": "Python 3"
    },
    "accelerator": "GPU"
  },
  "cells": [
    {
      "cell_type": "markdown",
      "metadata": {
        "id": "view-in-github",
        "colab_type": "text"
      },
      "source": [
        "<a href=\"https://colab.research.google.com/github/mpky/tb_colab/blob/master/ConvNet_sentdex_tutorial_20190417.ipynb\" target=\"_parent\"><img src=\"https://colab.research.google.com/assets/colab-badge.svg\" alt=\"Open In Colab\"/></a>"
      ]
    },
    {
      "metadata": {
        "id": "YHbV-vqA8dFx",
        "colab_type": "code",
        "outputId": "7978a918-9955-4267-d1a0-206ba81f42ae",
        "colab": {
          "base_uri": "https://localhost:8080/",
          "height": 238
        }
      },
      "cell_type": "code",
      "source": [
        "# download and unzip ngrok\n",
        "!wget https://bin.equinox.io/c/4VmDzA7iaHb/ngrok-stable-linux-amd64.zip\n",
        "!unzip ngrok-stable-linux-amd64.zip"
      ],
      "execution_count": 1,
      "outputs": [
        {
          "output_type": "stream",
          "text": [
            "--2019-04-17 11:48:48--  https://bin.equinox.io/c/4VmDzA7iaHb/ngrok-stable-linux-amd64.zip\n",
            "Resolving bin.equinox.io (bin.equinox.io)... 52.45.111.123, 52.204.136.9, 34.231.75.48, ...\n",
            "Connecting to bin.equinox.io (bin.equinox.io)|52.45.111.123|:443... connected.\n",
            "HTTP request sent, awaiting response... 200 OK\n",
            "Length: 14977695 (14M) [application/octet-stream]\n",
            "Saving to: ‘ngrok-stable-linux-amd64.zip’\n",
            "\n",
            "\r          ngrok-sta   0%[                    ]       0  --.-KB/s               \rngrok-stable-linux- 100%[===================>]  14.28M  82.6MB/s    in 0.2s    \n",
            "\n",
            "2019-04-17 11:48:49 (82.6 MB/s) - ‘ngrok-stable-linux-amd64.zip’ saved [14977695/14977695]\n",
            "\n",
            "Archive:  ngrok-stable-linux-amd64.zip\n",
            "  inflating: ngrok                   \n"
          ],
          "name": "stdout"
        }
      ]
    },
    {
      "metadata": {
        "id": "lDDXeqHQ8exi",
        "colab_type": "code",
        "colab": {}
      },
      "cell_type": "code",
      "source": [
        "# run tensorboard\n",
        "LOG_DIR = './log'\n",
        "get_ipython().system_raw(\n",
        "    'tensorboard --logdir {} --host 0.0.0.0 --port 6006 &'\n",
        "    .format(LOG_DIR)\n",
        ")"
      ],
      "execution_count": 0,
      "outputs": []
    },
    {
      "metadata": {
        "id": "-J4M23qz8ezf",
        "colab_type": "code",
        "colab": {}
      },
      "cell_type": "code",
      "source": [
        "# run ngrok to tunnel tensorboard port 6006\n",
        "get_ipython().system_raw('./ngrok http 6006 &')"
      ],
      "execution_count": 0,
      "outputs": []
    },
    {
      "metadata": {
        "id": "5mjDqLIE8e1e",
        "colab_type": "code",
        "outputId": "2a2151d9-1b66-4147-9821-1445b5673758",
        "colab": {
          "base_uri": "https://localhost:8080/",
          "height": 34
        }
      },
      "cell_type": "code",
      "source": [
        "# get the url for TB page\n",
        "! curl -s http://localhost:4040/api/tunnels | python3 -c \\\n",
        "    \"import sys, json; print(json.load(sys.stdin)['tunnels'][0]['public_url'])\""
      ],
      "execution_count": 4,
      "outputs": [
        {
          "output_type": "stream",
          "text": [
            "https://bbd975a0.ngrok.io\n"
          ],
          "name": "stdout"
        }
      ]
    },
    {
      "metadata": {
        "id": "J0dbm8lnDdYk",
        "colab_type": "code",
        "outputId": "d4c88949-80ec-4a76-a7c4-da0203326735",
        "colab": {
          "base_uri": "https://localhost:8080/",
          "height": 122
        }
      },
      "cell_type": "code",
      "source": [
        "# mount my drive\n",
        "from google.colab import drive\n",
        "drive.mount('/content/gdrive')"
      ],
      "execution_count": 5,
      "outputs": [
        {
          "output_type": "stream",
          "text": [
            "Go to this URL in a browser: https://accounts.google.com/o/oauth2/auth?client_id=947318989803-6bn6qk8qdgf4n4g3pfee6491hc0brc4i.apps.googleusercontent.com&redirect_uri=urn%3Aietf%3Awg%3Aoauth%3A2.0%3Aoob&scope=email%20https%3A%2F%2Fwww.googleapis.com%2Fauth%2Fdocs.test%20https%3A%2F%2Fwww.googleapis.com%2Fauth%2Fdrive%20https%3A%2F%2Fwww.googleapis.com%2Fauth%2Fdrive.photos.readonly%20https%3A%2F%2Fwww.googleapis.com%2Fauth%2Fpeopleapi.readonly&response_type=code\n",
            "\n",
            "Enter your authorization code:\n",
            "··········\n",
            "Mounted at /content/gdrive\n"
          ],
          "name": "stdout"
        }
      ]
    },
    {
      "metadata": {
        "id": "scZ3a2Vh2D54",
        "colab_type": "code",
        "colab": {}
      },
      "cell_type": "code",
      "source": [
        "import tensorflow as tf\n",
        "from tensorflow.keras.models import Sequential\n",
        "from tensorflow.keras.layers import Dense, Dropout, Activation, Flatten, Conv2D, MaxPooling2D\n",
        "from tensorflow.keras.callbacks import TensorBoard\n",
        "import pickle\n",
        "import time"
      ],
      "execution_count": 0,
      "outputs": []
    },
    {
      "metadata": {
        "id": "cbIt9UfC2IZV",
        "colab_type": "code",
        "outputId": "c9f5a6a3-f2be-442b-8547-7ec147d2ce41",
        "colab": {
          "base_uri": "https://localhost:8080/",
          "height": 34
        }
      },
      "cell_type": "code",
      "source": [
        "!pwd"
      ],
      "execution_count": 7,
      "outputs": [
        {
          "output_type": "stream",
          "text": [
            "/content\n"
          ],
          "name": "stdout"
        }
      ]
    },
    {
      "metadata": {
        "id": "imVARjh_2D7-",
        "colab_type": "code",
        "colab": {}
      },
      "cell_type": "code",
      "source": [
        "X = pickle.load(open(\"/content/gdrive/My Drive/Colab_Notebooks/Colab_Projects/sentdex_tutorial/X.pickle\", \"rb\"))\n",
        "y = pickle.load(open(\"/content/gdrive/My Drive/Colab_Notebooks/Colab_Projects/sentdex_tutorial/y.pickle\", \"rb\"))"
      ],
      "execution_count": 0,
      "outputs": []
    },
    {
      "metadata": {
        "id": "vhEaSZ9j5StD",
        "colab_type": "code",
        "outputId": "a79ad291-b635-42f4-d16d-deeba5e25a3c",
        "colab": {
          "base_uri": "https://localhost:8080/",
          "height": 1873
        }
      },
      "cell_type": "code",
      "source": [
        "NAME = \"Cats-vs-dog-cnn-64x2-50epochs-{}\".format(int(time.time()))\n",
        "\n",
        "tensorboard = TensorBoard(log_dir='./log/{}'.format(NAME))\n",
        "\n",
        "# need to scale\n",
        "X = X / 255\n",
        "\n",
        "model = Sequential()\n",
        "model.add(Conv2D(64, (3,3), input_shape=X.shape[1:]))\n",
        "model.add(Activation(\"relu\"))\n",
        "model.add(MaxPooling2D(pool_size=(2,2)))\n",
        "\n",
        "model.add(Conv2D(64, (3,3)))\n",
        "model.add(Activation(\"relu\"))\n",
        "model.add(MaxPooling2D(pool_size=(2,2)))\n",
        "\n",
        "model.add(Flatten())\n",
        "model.add(Dense(64))\n",
        "model.add(Activation(\"relu\"))\n",
        "\n",
        "model.add(Dense(1))\n",
        "model.add(Activation(\"sigmoid\"))\n",
        "\n",
        "model.compile(loss='binary_crossentropy',\n",
        "             optimizer='adam',\n",
        "             metrics=['accuracy'])\n",
        "\n",
        "model.fit(X,y,batch_size=32,validation_split=0.3, epochs=50, callbacks=[tensorboard])"
      ],
      "execution_count": 9,
      "outputs": [
        {
          "output_type": "stream",
          "text": [
            "WARNING:tensorflow:From /usr/local/lib/python3.6/dist-packages/tensorflow/python/ops/resource_variable_ops.py:435: colocate_with (from tensorflow.python.framework.ops) is deprecated and will be removed in a future version.\n",
            "Instructions for updating:\n",
            "Colocations handled automatically by placer.\n",
            "Train on 17462 samples, validate on 7484 samples\n",
            "WARNING:tensorflow:From /usr/local/lib/python3.6/dist-packages/tensorflow/python/ops/math_ops.py:3066: to_int32 (from tensorflow.python.ops.math_ops) is deprecated and will be removed in a future version.\n",
            "Instructions for updating:\n",
            "Use tf.cast instead.\n",
            "Epoch 1/50\n",
            "17462/17462 [==============================] - 8s 436us/sample - loss: 0.6257 - acc: 0.6425 - val_loss: 0.5728 - val_acc: 0.7068\n",
            "Epoch 2/50\n",
            "17462/17462 [==============================] - 4s 221us/sample - loss: 0.5227 - acc: 0.7414 - val_loss: 0.5200 - val_acc: 0.7461\n",
            "Epoch 3/50\n",
            "17462/17462 [==============================] - 4s 232us/sample - loss: 0.4711 - acc: 0.7755 - val_loss: 0.5014 - val_acc: 0.7557\n",
            "Epoch 4/50\n",
            "17462/17462 [==============================] - 4s 216us/sample - loss: 0.4363 - acc: 0.7961 - val_loss: 0.5092 - val_acc: 0.7560\n",
            "Epoch 5/50\n",
            "17462/17462 [==============================] - 4s 210us/sample - loss: 0.4060 - acc: 0.8106 - val_loss: 0.4980 - val_acc: 0.7667\n",
            "Epoch 6/50\n",
            "17462/17462 [==============================] - 4s 211us/sample - loss: 0.3680 - acc: 0.8345 - val_loss: 0.4880 - val_acc: 0.7643\n",
            "Epoch 7/50\n",
            "17462/17462 [==============================] - 4s 211us/sample - loss: 0.3269 - acc: 0.8596 - val_loss: 0.5174 - val_acc: 0.7543\n",
            "Epoch 8/50\n",
            "17462/17462 [==============================] - 4s 210us/sample - loss: 0.2896 - acc: 0.8742 - val_loss: 0.5350 - val_acc: 0.7707\n",
            "Epoch 9/50\n",
            "17462/17462 [==============================] - 4s 212us/sample - loss: 0.2568 - acc: 0.8917 - val_loss: 0.5291 - val_acc: 0.7769\n",
            "Epoch 10/50\n",
            "17462/17462 [==============================] - 4s 211us/sample - loss: 0.2157 - acc: 0.9115 - val_loss: 0.5866 - val_acc: 0.7704\n",
            "Epoch 11/50\n",
            "17462/17462 [==============================] - 4s 211us/sample - loss: 0.1771 - acc: 0.9313 - val_loss: 0.6130 - val_acc: 0.7726\n",
            "Epoch 12/50\n",
            "17462/17462 [==============================] - 4s 210us/sample - loss: 0.1428 - acc: 0.9461 - val_loss: 0.7134 - val_acc: 0.7732\n",
            "Epoch 13/50\n",
            "17462/17462 [==============================] - 4s 211us/sample - loss: 0.1108 - acc: 0.9615 - val_loss: 0.7715 - val_acc: 0.7683\n",
            "Epoch 14/50\n",
            "17462/17462 [==============================] - 4s 210us/sample - loss: 0.0856 - acc: 0.9707 - val_loss: 0.8451 - val_acc: 0.7667\n",
            "Epoch 15/50\n",
            "17462/17462 [==============================] - 4s 210us/sample - loss: 0.0667 - acc: 0.9784 - val_loss: 0.9368 - val_acc: 0.7612\n",
            "Epoch 16/50\n",
            "17462/17462 [==============================] - 4s 209us/sample - loss: 0.0512 - acc: 0.9834 - val_loss: 1.0234 - val_acc: 0.7631\n",
            "Epoch 17/50\n",
            "17462/17462 [==============================] - 4s 211us/sample - loss: 0.0488 - acc: 0.9837 - val_loss: 1.0876 - val_acc: 0.7623\n",
            "Epoch 18/50\n",
            "17462/17462 [==============================] - 4s 211us/sample - loss: 0.0306 - acc: 0.9920 - val_loss: 1.1340 - val_acc: 0.7659\n",
            "Epoch 19/50\n",
            "17462/17462 [==============================] - 4s 211us/sample - loss: 0.0333 - acc: 0.9899 - val_loss: 1.2278 - val_acc: 0.7517\n",
            "Epoch 20/50\n",
            "17462/17462 [==============================] - 4s 211us/sample - loss: 0.0313 - acc: 0.9902 - val_loss: 1.2990 - val_acc: 0.7580\n",
            "Epoch 21/50\n",
            "17462/17462 [==============================] - 4s 217us/sample - loss: 0.0299 - acc: 0.9908 - val_loss: 1.3136 - val_acc: 0.7555\n",
            "Epoch 22/50\n",
            "17462/17462 [==============================] - 4s 229us/sample - loss: 0.0277 - acc: 0.9912 - val_loss: 1.3643 - val_acc: 0.7624\n",
            "Epoch 23/50\n",
            "17462/17462 [==============================] - 4s 229us/sample - loss: 0.0266 - acc: 0.9911 - val_loss: 1.5470 - val_acc: 0.7591\n",
            "Epoch 24/50\n",
            "17462/17462 [==============================] - 4s 213us/sample - loss: 0.0278 - acc: 0.9907 - val_loss: 1.4472 - val_acc: 0.7425\n",
            "Epoch 25/50\n",
            "17462/17462 [==============================] - 4s 211us/sample - loss: 0.0223 - acc: 0.9925 - val_loss: 1.5083 - val_acc: 0.7615\n",
            "Epoch 26/50\n",
            "17462/17462 [==============================] - 4s 211us/sample - loss: 0.0076 - acc: 0.9985 - val_loss: 1.5545 - val_acc: 0.7671\n",
            "Epoch 27/50\n",
            "17462/17462 [==============================] - 4s 211us/sample - loss: 0.0110 - acc: 0.9971 - val_loss: 1.5459 - val_acc: 0.7580\n",
            "Epoch 28/50\n",
            "17462/17462 [==============================] - 4s 211us/sample - loss: 0.0437 - acc: 0.9839 - val_loss: 1.5074 - val_acc: 0.7640\n",
            "Epoch 29/50\n",
            "17462/17462 [==============================] - 4s 210us/sample - loss: 0.0155 - acc: 0.9955 - val_loss: 1.5713 - val_acc: 0.7650\n",
            "Epoch 30/50\n",
            "17462/17462 [==============================] - 4s 211us/sample - loss: 0.0169 - acc: 0.9947 - val_loss: 1.5416 - val_acc: 0.7615\n",
            "Epoch 31/50\n",
            "17462/17462 [==============================] - 4s 212us/sample - loss: 0.0147 - acc: 0.9951 - val_loss: 1.7189 - val_acc: 0.7604\n",
            "Epoch 32/50\n",
            "17462/17462 [==============================] - 4s 210us/sample - loss: 0.0260 - acc: 0.9915 - val_loss: 1.6117 - val_acc: 0.7668\n",
            "Epoch 33/50\n",
            "17462/17462 [==============================] - 4s 211us/sample - loss: 0.0111 - acc: 0.9970 - val_loss: 1.6728 - val_acc: 0.7734\n",
            "Epoch 34/50\n",
            "17462/17462 [==============================] - 4s 211us/sample - loss: 0.0044 - acc: 0.9993 - val_loss: 1.8004 - val_acc: 0.7690\n",
            "Epoch 35/50\n",
            "17462/17462 [==============================] - 4s 212us/sample - loss: 0.0362 - acc: 0.9877 - val_loss: 1.6475 - val_acc: 0.7620\n",
            "Epoch 36/50\n",
            "17462/17462 [==============================] - 4s 210us/sample - loss: 0.0113 - acc: 0.9967 - val_loss: 1.6962 - val_acc: 0.7668\n",
            "Epoch 37/50\n",
            "17462/17462 [==============================] - 4s 211us/sample - loss: 0.0058 - acc: 0.9983 - val_loss: 1.8430 - val_acc: 0.7672\n",
            "Epoch 38/50\n",
            "17462/17462 [==============================] - 4s 211us/sample - loss: 0.0034 - acc: 0.9994 - val_loss: 1.8900 - val_acc: 0.7575\n",
            "Epoch 39/50\n",
            "17462/17462 [==============================] - 4s 210us/sample - loss: 0.0455 - acc: 0.9839 - val_loss: 1.6333 - val_acc: 0.7557\n",
            "Epoch 40/50\n",
            "17462/17462 [==============================] - 4s 210us/sample - loss: 0.0112 - acc: 0.9965 - val_loss: 1.7572 - val_acc: 0.7584\n",
            "Epoch 41/50\n",
            "17462/17462 [==============================] - 4s 211us/sample - loss: 0.0055 - acc: 0.9986 - val_loss: 1.8209 - val_acc: 0.7596\n",
            "Epoch 42/50\n",
            "17462/17462 [==============================] - 4s 210us/sample - loss: 0.0023 - acc: 0.9997 - val_loss: 1.7820 - val_acc: 0.7727\n",
            "Epoch 43/50\n",
            "17462/17462 [==============================] - 4s 226us/sample - loss: 9.1890e-04 - acc: 0.9999 - val_loss: 1.8430 - val_acc: 0.7706\n",
            "Epoch 44/50\n",
            "17462/17462 [==============================] - 4s 227us/sample - loss: 0.0053 - acc: 0.9982 - val_loss: 2.0887 - val_acc: 0.7326\n",
            "Epoch 45/50\n",
            "17462/17462 [==============================] - 4s 223us/sample - loss: 0.0583 - acc: 0.9810 - val_loss: 1.6669 - val_acc: 0.7606\n",
            "Epoch 46/50\n",
            "17462/17462 [==============================] - 4s 211us/sample - loss: 0.0068 - acc: 0.9978 - val_loss: 1.7724 - val_acc: 0.7627\n",
            "Epoch 47/50\n",
            "17462/17462 [==============================] - 4s 210us/sample - loss: 0.0175 - acc: 0.9944 - val_loss: 1.7227 - val_acc: 0.7553\n",
            "Epoch 48/50\n",
            "17462/17462 [==============================] - 4s 209us/sample - loss: 0.0126 - acc: 0.9954 - val_loss: 1.8513 - val_acc: 0.7584\n",
            "Epoch 49/50\n",
            "17462/17462 [==============================] - 4s 211us/sample - loss: 0.0044 - acc: 0.9988 - val_loss: 1.8762 - val_acc: 0.7636\n",
            "Epoch 50/50\n",
            "17462/17462 [==============================] - 4s 210us/sample - loss: 0.0042 - acc: 0.9990 - val_loss: 1.9244 - val_acc: 0.7549\n"
          ],
          "name": "stdout"
        },
        {
          "output_type": "execute_result",
          "data": {
            "text/plain": [
              "<tensorflow.python.keras.callbacks.History at 0x7fb9fcb3e550>"
            ]
          },
          "metadata": {
            "tags": []
          },
          "execution_count": 9
        }
      ]
    },
    {
      "metadata": {
        "id": "OTA6WjZsF5ES",
        "colab_type": "code",
        "colab": {
          "base_uri": "https://localhost:8080/",
          "height": 255
        },
        "outputId": "9454c0c5-52c4-4265-d7fd-c5affd963a3a"
      },
      "cell_type": "code",
      "source": [
        "!ps"
      ],
      "execution_count": 10,
      "outputs": [
        {
          "output_type": "stream",
          "text": [
            "    PID TTY          TIME CMD\n",
            "      1 ?        00:00:00 run.sh\n",
            "      8 ?        00:00:01 node\n",
            "     23 ?        00:00:03 node\n",
            "     33 ?        00:00:07 jupyter-noteboo\n",
            "    124 ?        00:00:00 tail\n",
            "    139 ?        00:03:51 python3\n",
            "    163 ?        00:00:02 tensorboard\n",
            "    170 ?        00:00:01 ngrok\n",
            "    209 ?        00:00:00 drive\n",
            "    275 ?        00:00:00 drive\n",
            "    323 ?        00:00:00 tail\n",
            "    324 ?        00:00:00 grep\n",
            "    440 ?        00:00:00 ps\n"
          ],
          "name": "stdout"
        }
      ]
    },
    {
      "metadata": {
        "id": "hNpHXFqgH5Ut",
        "colab_type": "code",
        "colab": {}
      },
      "cell_type": "code",
      "source": [
        "!kill 163 170"
      ],
      "execution_count": 0,
      "outputs": []
    },
    {
      "metadata": {
        "id": "l1p3HS0uH-LG",
        "colab_type": "code",
        "colab": {
          "base_uri": "https://localhost:8080/",
          "height": 221
        },
        "outputId": "c9679634-3f30-41f1-f162-26c75a4ad2f3"
      },
      "cell_type": "code",
      "source": [
        "!ps"
      ],
      "execution_count": 12,
      "outputs": [
        {
          "output_type": "stream",
          "text": [
            "    PID TTY          TIME CMD\n",
            "      1 ?        00:00:00 run.sh\n",
            "      8 ?        00:00:01 node\n",
            "     23 ?        00:00:03 node\n",
            "     33 ?        00:00:07 jupyter-noteboo\n",
            "    124 ?        00:00:00 tail\n",
            "    139 ?        00:03:52 python3\n",
            "    209 ?        00:00:00 drive\n",
            "    275 ?        00:00:00 drive\n",
            "    323 ?        00:00:00 tail\n",
            "    324 ?        00:00:00 grep\n",
            "    458 ?        00:00:00 ps\n"
          ],
          "name": "stdout"
        }
      ]
    },
    {
      "metadata": {
        "id": "3H0YTo3RH_LK",
        "colab_type": "code",
        "colab": {}
      },
      "cell_type": "code",
      "source": [
        ""
      ],
      "execution_count": 0,
      "outputs": []
    }
  ]
}